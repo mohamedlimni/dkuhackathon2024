{
  "nbformat": 4,
  "nbformat_minor": 0,
  "metadata": {
    "colab": {
      "provenance": []
    },
    "kernelspec": {
      "name": "python3",
      "display_name": "Python 3"
    },
    "language_info": {
      "name": "python"
    }
  },
  "cells": [
    {
      "cell_type": "code",
      "source": [
        "import math\n",
        "\n",
        "\n",
        "def calculate_distance(loc1, loc2):\n",
        "    x_distance = loc1[0] - loc2[0]\n",
        "    y_distance = loc1[1] - loc2[1]\n",
        "    return math.sqrt(x_distance**2 + y_distance**2)\n",
        "\n",
        "person_location = (11, 52)\n",
        "doctors = [\n",
        "    {\"name\": \"Dr. Smith\", \"specialty\": \"Cardiologist\", \"location\": (20, 40), \"fee\": 250, \"rating\": 3.5},\n",
        "    {\"name\": \"Dr. Makroh\", \"specialty\": \"Dermatologist\", \"location\": (15, 35), \"fee\": 500, \"rating\": 3.8},\n",
        "    {\"name\": \"Dr. Sarout\", \"specialty\": \"Neurologist\", \"location\": (25, 30), \"fee\": 300, \"rating\": 2.8},\n",
        "    {\"name\": \"Dr. Mimouna\", \"specialty\": \"Cardiologist\", \"location\": (15, 40), \"fee\": 150, \"rating\": 1.9},\n",
        "    {\"name\": \"Dr. Mok\", \"specialty\": \"Neurologist\", \"location\": (56, 27), \"fee\": 200, \"rating\": 3.2},\n",
        "    {\"name\": \"Dr. Lisri\", \"specialty\": \"Gastroenterologist\", \"location\": (23, 46), \"fee\": 200, \"rating\": 4.2},\n",
        "    {\"name\": \"Dr. Bekkali\", \"specialty\": \"Cardiologist\", \"location\": (76, 16), \"fee\": 250, \"rating\": 2.7},\n",
        "    {\"name\": \"Dr. Faid\", \"specialty\": \"Dermatologist\", \"location\": (68, 36), \"fee\": 450, \"rating\": 3.2},\n",
        "    {\"name\": \"Dr. Hanouta\", \"specialty\": \"Gastroenterologist\", \"location\": (18, 39), \"fee\": 250, \"rating\": 4.1},\n",
        "    {\"name\": \"Dr. Choumicha\", \"specialty\": \"Cardiologist\", \"location\": (28, 34), \"fee\": 300, \"rating\": 2.9},\n",
        "]\n",
        "\n",
        "\n",
        "max_budget = 300\n",
        "\n",
        "specialty_required = \"Cardiologist\"  #define the specialty\n",
        "priority = \"rating\"  #define the priority"
      ],
      "metadata": {
        "id": "V7MHbSQYk8Jx"
      },
      "execution_count": 17,
      "outputs": []
    },
    {
      "cell_type": "code",
      "execution_count": 18,
      "metadata": {
        "colab": {
          "base_uri": "https://localhost:8080/"
        },
        "id": "veaCOrXmkrI3",
        "outputId": "a31eefcb-3a7f-47c0-fc15-b24e03e6012a"
      },
      "outputs": [
        {
          "output_type": "stream",
          "name": "stdout",
          "text": [
            "Top specialized doctor based on rating: Dr. Smith\n",
            "Dr. Smith - Rating: 3.5 - Distance: 15.00 - Fee: 250\n",
            "Dr. Choumicha - Rating: 2.9 - Distance: 24.76 - Fee: 300\n",
            "Dr. Bekkali - Rating: 2.7 - Distance: 74.30 - Fee: 250\n",
            "Dr. Mimouna - Rating: 1.9 - Distance: 12.65 - Fee: 150\n"
          ]
        }
      ],
      "source": [
        "def find_specialized_doctors(person_location, doctors, specialty_required, max_budget, priority):\n",
        "    filtered = []\n",
        "\n",
        "    # Step 1: Filter doctors by specialty and max budget\n",
        "    for doctor in doctors:\n",
        "        if doctor[\"specialty\"] == specialty_required and doctor[\"fee\"] <= max_budget:\n",
        "            doctor_copy = doctor.copy()\n",
        "            doctor_copy[\"distance\"] = calculate_distance(person_location, doctor[\"location\"])\n",
        "            filtered.append(doctor_copy)\n",
        "\n",
        "    # Step 2: Sort doctors based on priority\n",
        "    if priority == 'rating':\n",
        "        filtered.sort(key=lambda doctor: doctor[\"rating\"], reverse=True)\n",
        "    elif priority == 'distance':\n",
        "        filtered.sort(key=lambda doctor: doctor[\"distance\"])\n",
        "    elif priority == 'fee':\n",
        "        filtered.sort(key=lambda doctor: doctor[\"fee\"])\n",
        "\n",
        "    return filtered\n",
        "\n",
        "# Call the function with defined priority\n",
        "sorted_doctors = find_specialized_doctors(person_location, doctors, specialty_required, max_budget, priority)\n",
        "\n",
        "# Display the results\n",
        "if sorted_doctors:\n",
        "    print(f\"Top specialized doctor based on {priority}: {sorted_doctors[0]['name']}\")\n",
        "    for doctor in sorted_doctors:\n",
        "        print(f\"{doctor['name']} - Rating: {doctor['rating']} - Distance: {doctor['distance']:.2f} - Fee: {doctor['fee']}\")\n",
        "else:\n",
        "    print(f\"No specialized doctor found based on {priority}\")"
      ]
    }
  ]
}